{
 "cells": [
  {
   "cell_type": "code",
   "execution_count": 1,
   "metadata": {},
   "outputs": [],
   "source": [
    "from faker import Faker"
   ]
  },
  {
   "cell_type": "code",
   "execution_count": 2,
   "metadata": {},
   "outputs": [
    {
     "name": "stdout",
     "output_type": "stream",
     "text": [
      "2007-01-29\n",
      "048764759\n",
      "('Patricia', 'Robinson')\n",
      "1925-04-12\n",
      "Y19489241\n",
      "('Jessica', 'Nolan')\n",
      "1988-06-19\n",
      "815659387\n",
      "('Scott', 'Boyd')\n",
      "1916-05-07\n",
      "C60975351\n",
      "('James', 'Bradley')\n",
      "1936-10-20\n",
      "Z87115871\n",
      "('Kevin', 'Carter')\n"
     ]
    }
   ],
   "source": [
    "# Initialize Faker\n",
    "fake = Faker()\n",
    "Faker.seed(0)\n",
    "\n",
    "for _ in range(5):\n",
    "    print(fake.passport_dob())\n",
    "    print(fake.passport_number())\n",
    "    print(fake.passport_owner())"
   ]
  }
 ],
 "metadata": {
  "kernelspec": {
   "display_name": "unicornair-research-AgfVVUl9-py3.11",
   "language": "python",
   "name": "python3"
  },
  "language_info": {
   "codemirror_mode": {
    "name": "ipython",
    "version": 3
   },
   "file_extension": ".py",
   "mimetype": "text/x-python",
   "name": "python",
   "nbconvert_exporter": "python",
   "pygments_lexer": "ipython3",
   "version": "3.11.9"
  }
 },
 "nbformat": 4,
 "nbformat_minor": 2
}
